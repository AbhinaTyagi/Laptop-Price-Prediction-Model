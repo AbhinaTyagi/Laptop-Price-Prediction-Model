{
 "cells": [
  {
   "cell_type": "code",
   "execution_count": 1,
   "id": "8d760759-7336-496c-a860-dad7b8dcc448",
   "metadata": {},
   "outputs": [],
   "source": [
    "import pickle \n",
    "import numpy as np"
   ]
  },
  {
   "cell_type": "code",
   "execution_count": 2,
   "id": "a966170c-098e-4cc2-9765-022278c6cd7a",
   "metadata": {},
   "outputs": [],
   "source": [
    "laptop=pickle.load(open('Laptop Price Prediction.pkl','rb'))"
   ]
  },
  {
   "cell_type": "code",
   "execution_count": 7,
   "id": "cbbe9e8e-292e-4b23-bec6-d977512e6870",
   "metadata": {},
   "outputs": [],
   "source": [
    "value=np.array(['Acer','Intel i5',8,'1TB HDD','AMD Radeon RX 6600',16.0,'3840x2160',5,1.25,'Linux'],dtype=object).reshape(1,10)"
   ]
  },
  {
   "cell_type": "code",
   "execution_count": 8,
   "id": "3cf99a0a-0113-42a3-b778-875231d7916a",
   "metadata": {},
   "outputs": [
    {
     "name": "stderr",
     "output_type": "stream",
     "text": [
      "C:\\Users\\Gungun Tyagi\\anaconda3\\Lib\\site-packages\\sklearn\\base.py:439: UserWarning: X does not have valid feature names, but OneHotEncoder was fitted with feature names\n",
      "  warnings.warn(\n"
     ]
    },
    {
     "data": {
      "text/plain": [
       "array([1436.04])"
      ]
     },
     "execution_count": 8,
     "metadata": {},
     "output_type": "execute_result"
    }
   ],
   "source": [
    "laptop.predict(value)"
   ]
  },
  {
   "cell_type": "code",
   "execution_count": null,
   "id": "3e018bae-bbc3-460b-b835-3edf30484af2",
   "metadata": {},
   "outputs": [],
   "source": []
  }
 ],
 "metadata": {
  "kernelspec": {
   "display_name": "Python 3 (ipykernel)",
   "language": "python",
   "name": "python3"
  },
  "language_info": {
   "codemirror_mode": {
    "name": "ipython",
    "version": 3
   },
   "file_extension": ".py",
   "mimetype": "text/x-python",
   "name": "python",
   "nbconvert_exporter": "python",
   "pygments_lexer": "ipython3",
   "version": "3.11.7"
  }
 },
 "nbformat": 4,
 "nbformat_minor": 5
}
